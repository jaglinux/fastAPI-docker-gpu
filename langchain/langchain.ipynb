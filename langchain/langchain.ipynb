{
 "cells": [
  {
   "cell_type": "code",
   "execution_count": 2,
   "id": "9bae6a07-dcf9-4466-9d9f-6f4f6afe9a71",
   "metadata": {},
   "outputs": [
    {
     "name": "stdout",
     "output_type": "stream",
     "text": [
      "\n",
      "\u001b[1m[\u001b[0m\u001b[34;49mnotice\u001b[0m\u001b[1;39;49m]\u001b[0m\u001b[39;49m A new release of pip is available: \u001b[0m\u001b[31;49m23.0.1\u001b[0m\u001b[39;49m -> \u001b[0m\u001b[32;49m23.3.2\u001b[0m\n",
      "\u001b[1m[\u001b[0m\u001b[34;49mnotice\u001b[0m\u001b[1;39;49m]\u001b[0m\u001b[39;49m To update, run: \u001b[0m\u001b[32;49mpip install --upgrade pip\u001b[0m\n"
     ]
    }
   ],
   "source": [
    "!pip install -qU \\\n",
    "    langchain==0.0.354 \\\n",
    "    openai==1.6.1 \\\n",
    "    datasets==2.10.1 \\\n",
    "    pinecone-client==3.0.0 \\\n",
    "    tiktoken==0.5.2"
   ]
  },
  {
   "cell_type": "code",
   "execution_count": 3,
   "id": "4a8f5493-5882-4895-ac04-2590a58fda43",
   "metadata": {},
   "outputs": [],
   "source": [
    "import os\n",
    "from langchain.chat_models import ChatOpenAI"
   ]
  },
  {
   "cell_type": "code",
   "execution_count": 21,
   "id": "75e1dfcc-4a33-46a4-bd99-951505fb428b",
   "metadata": {},
   "outputs": [],
   "source": [
    "os.environ[\"OPENAI_API_KEY\"] = os.getenv(\"OPENAI_API_KEY\")"
   ]
  },
  {
   "cell_type": "code",
   "execution_count": 22,
   "id": "1077145b-d583-4e7d-9957-2d6384a350a6",
   "metadata": {},
   "outputs": [],
   "source": [
    "chat = ChatOpenAI(\n",
    "    openai_api_key=os.environ[\"OPENAI_API_KEY\"],\n",
    "    model='gpt-3.5-turbo'\n",
    ")"
   ]
  },
  {
   "cell_type": "code",
   "execution_count": 23,
   "id": "400f1102-c8e2-4be2-8c00-02818dd6970f",
   "metadata": {},
   "outputs": [],
   "source": [
    "from langchain.schema import (\n",
    "    SystemMessage,\n",
    "    HumanMessage,\n",
    "    AIMessage\n",
    ")\n",
    "\n",
    "messages = [\n",
    "    SystemMessage(content=\"You are a helpful assistant.\"),\n",
    "    HumanMessage(content=\"Hi AI, how are you today?\"),\n",
    "    AIMessage(content=\"I'm great thank you. How can I help you?\"),\n",
    "    HumanMessage(content=\"I'd like to understand string theory.\")\n",
    "]"
   ]
  },
  {
   "cell_type": "code",
   "execution_count": 25,
   "id": "a7229f37-3d54-442a-8c56-7c4a4cca5e9a",
   "metadata": {},
   "outputs": [],
   "source": [
    "res = chat(messages)"
   ]
  },
  {
   "cell_type": "code",
   "execution_count": 26,
   "id": "3ee92cd2-f9a0-45c1-81af-18a1a6ce8129",
   "metadata": {},
   "outputs": [
    {
     "data": {
      "text/plain": [
       "AIMessage(content='String theory is a theoretical framework in physics that aims to reconcile quantum mechanics and general relativity. It suggests that the fundamental objects in the universe are not point-like particles, but tiny, vibrating strings. These strings can have different modes of vibration, which determine their properties such as mass and charge.\\n\\nOne of the key ideas in string theory is that there are more dimensions than the familiar three spatial dimensions (length, width, and height) and one time dimension. In fact, string theory requires the existence of extra dimensions, typically six or seven in addition to the four we are familiar with. These extra dimensions are believed to be \"compactified\" or curled up into tiny, almost imperceptible sizes.\\n\\nString theory also proposes different versions or \"string theories\" that can be unified into a single overarching theory. These versions differ in the number of dimensions and other properties. For instance, one of the most well-known string theories is called \"superstring theory,\" which incorporates supersymmetry, a concept that relates particles with different spins.\\n\\nIt is important to note that string theory is still a work in progress and has not been experimentally confirmed. However, it has provided valuable insights into various areas of physics, including black holes, particle physics, and cosmology. Researchers continue to explore and develop string theory to deepen our understanding of the fundamental nature of the universe.')"
      ]
     },
     "execution_count": 26,
     "metadata": {},
     "output_type": "execute_result"
    }
   ],
   "source": [
    "res"
   ]
  },
  {
   "cell_type": "code",
   "execution_count": 28,
   "id": "8a765df9-1d0c-48e8-ac51-183176447366",
   "metadata": {},
   "outputs": [
    {
     "name": "stdout",
     "output_type": "stream",
     "text": [
      "String theory is a theoretical framework in physics that aims to reconcile quantum mechanics and general relativity. It suggests that the fundamental objects in the universe are not point-like particles, but tiny, vibrating strings. These strings can have different modes of vibration, which determine their properties such as mass and charge.\n",
      "\n",
      "One of the key ideas in string theory is that there are more dimensions than the familiar three spatial dimensions (length, width, and height) and one time dimension. In fact, string theory requires the existence of extra dimensions, typically six or seven in addition to the four we are familiar with. These extra dimensions are believed to be \"compactified\" or curled up into tiny, almost imperceptible sizes.\n",
      "\n",
      "String theory also proposes different versions or \"string theories\" that can be unified into a single overarching theory. These versions differ in the number of dimensions and other properties. For instance, one of the most well-known string theories is called \"superstring theory,\" which incorporates supersymmetry, a concept that relates particles with different spins.\n",
      "\n",
      "It is important to note that string theory is still a work in progress and has not been experimentally confirmed. However, it has provided valuable insights into various areas of physics, including black holes, particle physics, and cosmology. Researchers continue to explore and develop string theory to deepen our understanding of the fundamental nature of the universe.\n"
     ]
    }
   ],
   "source": [
    "print(res.content)"
   ]
  },
  {
   "cell_type": "code",
   "execution_count": 29,
   "id": "a38de40d-84df-42a9-8e41-bd29d46326dd",
   "metadata": {},
   "outputs": [],
   "source": [
    "messages.append(res)"
   ]
  },
  {
   "cell_type": "code",
   "execution_count": 31,
   "id": "bc20544c-bde1-4439-be64-64a7c40d9c63",
   "metadata": {},
   "outputs": [
    {
     "name": "stdout",
     "output_type": "stream",
     "text": [
      "Physicists believe that string theory has the potential to produce a unified theory because it has the ability to incorporate and reconcile various fundamental forces in nature. In the standard model of particle physics, there are four fundamental forces: gravity, electromagnetism, and the strong and weak nuclear forces.\n",
      "\n",
      "However, the standard model lacks a consistent framework that can explain the behavior of all these forces under extreme conditions, such as near the center of a black hole or during the early moments of the universe. Furthermore, the standard model does not incorporate gravity, which is described by general relativity.\n",
      "\n",
      "String theory offers a promising approach to unification by treating particles as vibrations of tiny strings. These strings can vibrate in different ways, giving rise to different particles with various properties. By incorporating all these vibrations, string theory potentially encompasses all the fundamental particles and their interactions, including gravity.\n",
      "\n",
      "Moreover, string theory allows for the existence of extra dimensions, which can help unify different forces. The extra dimensions are usually compactified, but their presence influences the behavior of particles and forces in our four-dimensional spacetime.\n",
      "\n",
      "While string theory has not yet been fully developed into a complete and testable theory, it offers a way to potentially unify the fundamental forces and provide a more comprehensive understanding of the laws governing the universe.\n"
     ]
    }
   ],
   "source": [
    "prompt = HumanMessage(\n",
    "    content=\"Why do physicists believe it can produce a 'unified theory'?\"\n",
    ")\n",
    "# add to messages\n",
    "messages.append(prompt)\n",
    "\n",
    "# send to chat-gpt\n",
    "res = chat(messages)\n",
    "\n",
    "print(res.content)"
   ]
  }
 ],
 "metadata": {
  "kernelspec": {
   "display_name": "Python 3 (ipykernel)",
   "language": "python",
   "name": "python3"
  },
  "language_info": {
   "codemirror_mode": {
    "name": "ipython",
    "version": 3
   },
   "file_extension": ".py",
   "mimetype": "text/x-python",
   "name": "python",
   "nbconvert_exporter": "python",
   "pygments_lexer": "ipython3",
   "version": "3.11.6"
  }
 },
 "nbformat": 4,
 "nbformat_minor": 5
}
